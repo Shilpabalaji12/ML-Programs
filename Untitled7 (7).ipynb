{
  "nbformat": 4,
  "nbformat_minor": 0,
  "metadata": {
    "colab": {
      "provenance": []
    },
    "kernelspec": {
      "name": "python3",
      "display_name": "Python 3"
    },
    "language_info": {
      "name": "python"
    }
  },
  "cells": [
    {
      "cell_type": "code",
      "source": [
        "import numpy as np\n",
        "from sklearn.datasets import load_iris\n",
        "from sklearn.model_selection import train_test_split\n",
        "from sklearn.preprocessing import OneHotEncoder, StandardScaler"
      ],
      "metadata": {
        "id": "Lghwo42Q5Y5L"
      },
      "execution_count": null,
      "outputs": []
    },
    {
      "cell_type": "code",
      "source": [
        "# Load the Iris dataset\n",
        "iris = load_iris()\n",
        "X = iris.data  # Features\n",
        "y = iris.target.reshape(-1, 1)  # Labels (reshape to make it a column vector)"
      ],
      "metadata": {
        "id": "fnuD6HJt54Ya"
      },
      "execution_count": null,
      "outputs": []
    },
    {
      "cell_type": "code",
      "source": [
        "# One-Hot Encode the target variable\n",
        "encoder = OneHotEncoder(sparse_output=False)\n",
        "y_onehot = encoder.fit_transform(y)"
      ],
      "metadata": {
        "id": "IFQZt0OF584E"
      },
      "execution_count": null,
      "outputs": []
    },
    {
      "cell_type": "code",
      "source": [
        "# Standardize the features\n",
        "scaler = StandardScaler()\n",
        "X = scaler.fit_transform(X)"
      ],
      "metadata": {
        "id": "qXEL6nQm6Amg"
      },
      "execution_count": null,
      "outputs": []
    },
    {
      "cell_type": "code",
      "source": [
        "# Split dataset into training and testing sets\n",
        "X_train, X_test, y_train, y_test = train_test_split(X, y_onehot, test_size=0.2, random_state=42)\n"
      ],
      "metadata": {
        "id": "izVx7CVm6Cig"
      },
      "execution_count": 86,
      "outputs": []
    },
    {
      "cell_type": "code",
      "source": [
        "# Initialize neural network parameters\n",
        "input_size = X.shape[1]  # 4 features\n",
        "hidden_size = 6          # 6 neurons in hidden layer\n",
        "output_size = y_onehot.shape[1]  # 3 classes (setosa, versicolor, virginica)\n",
        "np.random.seed(42)\n",
        "W1 = np.random.randn(input_size, hidden_size)\n",
        "b1 = np.zeros((1, hidden_size))\n",
        "W2 = np.random.randn(hidden_size, output_size)\n",
        "b2 = np.zeros((1, output_size))"
      ],
      "metadata": {
        "id": "YebnQ2jJ6W6U"
      },
      "execution_count": 88,
      "outputs": []
    },
    {
      "cell_type": "code",
      "source": [
        "# Sigmoid activation function and derivative\n",
        "def sigmoid(x):\n",
        "    return 1 / (1 + np.exp(-x))\n",
        "\n",
        "def sigmoid_derivative(x):\n",
        "    return x * (1 - x)"
      ],
      "metadata": {
        "id": "6MRmFQbC6Yg1"
      },
      "execution_count": 89,
      "outputs": []
    },
    {
      "cell_type": "code",
      "source": [
        "# Define hyperparameters\n",
        "epochs = 5000\n",
        "learning_rate = 0.01  # Define the learning rate\n",
        "\n",
        "# Training loop\n",
        "for epoch in range(epochs):\n",
        "    # **Forward Propagation**\n",
        "    hidden_layer_input = np.dot(X_train, W1) + b1\n",
        "    hidden_layer_output = sigmoid(hidden_layer_input)\n",
        "\n",
        "    output_layer_input = np.dot(hidden_layer_output, W2) + b2\n",
        "    predicted_output = sigmoid(output_layer_input)\n",
        "\n",
        "    # **Compute Error**\n",
        "    error = y_train - predicted_output\n",
        "\n",
        "    # **Backward Propagation**\n",
        "    d_output = error * sigmoid_derivative(predicted_output)\n",
        "    error_hidden = d_output.dot(W2.T)\n",
        "    d_hidden = error_hidden * sigmoid_derivative(hidden_layer_output)\n",
        "\n",
        "    # **Update Weights and Biases**\n",
        "    W2 += hidden_layer_output.T.dot(d_output) * learning_rate\n",
        "    b2 += np.sum(d_output, axis=0, keepdims=True) * learning_rate\n",
        "    W1 += X_train.T.dot(d_hidden) * learning_rate\n",
        "    b1 += np.sum(d_hidden, axis=0, keepdims=True) * learning_rate\n",
        "\n",
        "    # Print loss every 500 epochs\n",
        "    if epoch % 500 == 0:\n",
        "        loss = np.mean(np.abs(error))\n",
        "        print(f\"Epoch {epoch}, Loss: {loss:.4f}\")\n"
      ],
      "metadata": {
        "colab": {
          "base_uri": "https://localhost:8080/"
        },
        "id": "hm80jBPb7GUk",
        "outputId": "335a6af4-944f-4fde-8331-4d77e6ada5a2"
      },
      "execution_count": 93,
      "outputs": [
        {
          "output_type": "stream",
          "name": "stdout",
          "text": [
            "Epoch 0, Loss: 0.4231\n",
            "Epoch 500, Loss: 0.1090\n",
            "Epoch 1000, Loss: 0.0696\n",
            "Epoch 1500, Loss: 0.0564\n",
            "Epoch 2000, Loss: 0.0494\n",
            "Epoch 2500, Loss: 0.0450\n",
            "Epoch 3000, Loss: 0.0419\n",
            "Epoch 3500, Loss: 0.0396\n",
            "Epoch 4000, Loss: 0.0378\n",
            "Epoch 4500, Loss: 0.0364\n"
          ]
        }
      ]
    }
  ]
}